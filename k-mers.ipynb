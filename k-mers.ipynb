{
 "cells": [
  {
   "cell_type": "code",
   "execution_count": 1,
   "metadata": {},
   "outputs": [],
   "source": [
    "from skbio import Sequence"
   ]
  },
  {
   "cell_type": "code",
   "execution_count": 6,
   "metadata": {},
   "outputs": [
    {
     "name": "stdout",
     "output_type": "stream",
     "text": [
      "ACA\n",
      "CAC\n",
      "ACG\n",
      "CGA\n",
      "GAC\n",
      "ACG\n",
      "CGT\n",
      "GTT\n"
     ]
    }
   ],
   "source": [
    "s = Sequence('ACACGACGTT')\n",
    "\n",
    "for kmer in s.iter_kmers(3, overlap=True):\n",
    "    str(kmer)\n",
    "    print(kmer)"
   ]
  }
 ],
 "metadata": {
  "kernelspec": {
   "display_name": "base",
   "language": "python",
   "name": "python3"
  },
  "language_info": {
   "codemirror_mode": {
    "name": "ipython",
    "version": 3
   },
   "file_extension": ".py",
   "mimetype": "text/x-python",
   "name": "python",
   "nbconvert_exporter": "python",
   "pygments_lexer": "ipython3",
   "version": "3.11.5"
  }
 },
 "nbformat": 4,
 "nbformat_minor": 2
}
